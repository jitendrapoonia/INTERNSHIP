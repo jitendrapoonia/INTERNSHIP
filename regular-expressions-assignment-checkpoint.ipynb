{
 "cells": [
  {
   "cell_type": "raw",
   "id": "4d23a1e4",
   "metadata": {},
   "source": [
    "Question 1- Write a Python program to replace all occurrences of a space, comma, or dot with a colon.\n",
    "Sample Text- 'Python Exercises, PHP exercises.'\n",
    "Expected Output: Python:Exercises::PHP:exercises:\n"
   ]
  },
  {
   "cell_type": "code",
   "execution_count": 1,
   "id": "a582bbe5",
   "metadata": {},
   "outputs": [
    {
     "name": "stdout",
     "output_type": "stream",
     "text": [
      "Python:Exercises::PHP:exercises:\n"
     ]
    }
   ],
   "source": [
    "def replace_with_colon(text):\n",
    "    replacements = {' ': ':', ',': ':', '.': ':'}\n",
    "    for old, new in replacements.items():\n",
    "        text = text.replace(old, new)\n",
    "    return text\n",
    "\n",
    "sample_text = 'Python Exercises, PHP exercises.'\n",
    "output_text = replace_with_colon(sample_text)\n",
    "print(output_text)\n"
   ]
  },
  {
   "cell_type": "raw",
   "id": "5d8425db",
   "metadata": {},
   "source": [
    "Question 2-  Create a dataframe using the dictionary below and remove everything (commas (,), !, XXXX, ;, etc.) from the columns except words.\n",
    "Dictionary- {'SUMMARY' : ['hello, world!', 'XXXXX test', '123four, five:; six...']}\n"
   ]
  },
  {
   "cell_type": "code",
   "execution_count": 6,
   "id": "e5e9a3cf",
   "metadata": {},
   "outputs": [
    {
     "name": "stdout",
     "output_type": "stream",
     "text": [
      "          SUMMARY\n",
      "0    hello world \n",
      "1      XXXXX test\n",
      "2  four five six \n"
     ]
    }
   ],
   "source": [
    "import pandas as pd\n",
    "import re\n",
    "\n",
    "data = {'SUMMARY': ['hello, world!', 'XXXXX test', 'four, five:; six...']}\n",
    "df = pd.DataFrame(data)\n",
    "\n",
    "\n",
    "df['SUMMARY'] = df['SUMMARY'].apply(lambda x: re.sub(r'\\W+', ' ', x))\n",
    "\n",
    "print(df)\n"
   ]
  },
  {
   "cell_type": "raw",
   "id": "7ef61a5b",
   "metadata": {},
   "source": [
    "Question 3- Create a function in python to find all words that are at least 4 characters long in a string. The use of the re.compile() method is mandatory."
   ]
  },
  {
   "cell_type": "code",
   "execution_count": 4,
   "id": "436c2c3a",
   "metadata": {},
   "outputs": [
    {
     "name": "stdout",
     "output_type": "stream",
     "text": [
      "['This', 'sample', 'text', 'with', 'some', 'words', 'different', 'lengths', 'like', 'hello', 'world', 'python', 'exercises']\n"
     ]
    }
   ],
   "source": [
    "import re\n",
    "\n",
    "def find_long_words(text):\n",
    "    pattern = re.compile(r'\\b\\w{4,}\\b')\n",
    "    \n",
    "    long_words = pattern.findall(text)\n",
    "    \n",
    "    return long_words\n",
    "\n",
    "text = \"This is a sample text with some words of different lengths like hello, world, python, exercises.\"\n",
    "long_words = find_long_words(text)\n",
    "print(long_words)\n"
   ]
  },
  {
   "cell_type": "raw",
   "id": "f4f55e66",
   "metadata": {},
   "source": [
    "Question 4- Create a function in python to find all three, four, and five character words in a string. The use of the re.compile() method is mandatory."
   ]
  },
  {
   "cell_type": "code",
   "execution_count": 1,
   "id": "2b34c9c3",
   "metadata": {},
   "outputs": [
    {
     "name": "stdout",
     "output_type": "stream",
     "text": [
      "['This', 'text', 'with', 'some', 'three', 'four', 'and', 'five', 'words', 'like', 'apple', 'book', 'table', 'house', 'car', 'and']\n"
     ]
    }
   ],
   "source": [
    "import re\n",
    "\n",
    "def find_words(text):\n",
    "    # Compile a regular expression pattern to match three, four, and five character words\n",
    "    pattern = re.compile(r'\\b\\w{3,5}\\b')\n",
    "    \n",
    "    # Find all matches in the text\n",
    "    words = pattern.findall(text)\n",
    "    \n",
    "    return words\n",
    "\n",
    "# Example usage:\n",
    "text = \"This is a sample text with some three, four, and five character words like 'apple', 'book', 'table', 'house', 'car', and 'python'.\"\n",
    "result = find_words(text)\n",
    "print(result)\n"
   ]
  },
  {
   "cell_type": "raw",
   "id": "0e9505b2",
   "metadata": {},
   "source": [
    "Question 5- Create a function in Python to remove the parenthesis in a list of strings. The use of the re.compile() method is mandatory.\n",
    "Sample Text: [\"example (.com)\", \"hr@fliprobo (.com)\", \"github (.com)\", \"Hello (Data Science World)\", \"Data (Scientist)\"]"
   ]
  },
  {
   "cell_type": "code",
   "execution_count": 4,
   "id": "e6c1ad30",
   "metadata": {},
   "outputs": [
    {
     "name": "stdout",
     "output_type": "stream",
     "text": [
      "['Hello', 'Python programming', 'Computer Science']\n"
     ]
    }
   ],
   "source": [
    "import re\n",
    "\n",
    "def remove_parenthesis(strings):\n",
    "   \n",
    "    pattern = re.compile(r'\\(|\\)')\n",
    "\n",
    "   \n",
    "    modified_strings = [pattern.sub('', s) for s in strings]\n",
    "\n",
    "    return modified_strings\n",
    "\n",
    "\n",
    "strings = [\"(Hello)\", \"Python (programming)\", \"Computer (Science)\"]\n",
    "result = remove_parenthesis(strings)\n",
    "print(result)\n"
   ]
  },
  {
   "cell_type": "raw",
   "id": "cc2d1493",
   "metadata": {},
   "source": [
    "Question 7- Write a regular expression in Python to split a string into uppercase letters.\n",
    "Sample text: “ImportanceOfRegularExpressionsInPython”\n"
   ]
  },
  {
   "cell_type": "code",
   "execution_count": 15,
   "id": "62261584",
   "metadata": {},
   "outputs": [
    {
     "name": "stdout",
     "output_type": "stream",
     "text": [
      "['', 'Importance', 'Of', 'Regular', 'Expressions', 'In', 'Python']\n"
     ]
    }
   ],
   "source": [
    "import re\n",
    "\n",
    "text = \"ImportanceOfRegularExpressionsInPython\"\n",
    "\n",
    "\n",
    "pattern = re.compile(r'(?=[A-Z])')\n",
    "\n",
    "result = pattern.split(text)\n",
    "\n",
    "print(result)\n"
   ]
  },
  {
   "cell_type": "raw",
   "id": "bb33a877",
   "metadata": {},
   "source": [
    "Question 8- Create a function in python to insert spaces between words starting with numbers.\n",
    "Sample Text: “RegularExpression1IsAn2ImportantTopic3InPython\"\n"
   ]
  },
  {
   "cell_type": "code",
   "execution_count": 16,
   "id": "b6d3b570",
   "metadata": {},
   "outputs": [
    {
     "name": "stdout",
     "output_type": "stream",
     "text": [
      "RegularExpression1 IsAn2 ImportantTopic3 InPython\n"
     ]
    }
   ],
   "source": [
    "import re\n",
    "\n",
    "def insert_spaces(text):\n",
    "    pattern = re.compile(r'(?<=\\d)(?=[A-Za-z])')\n",
    "\n",
    "    modified_text = pattern.sub(' ', text)\n",
    "\n",
    "    return modified_text\n",
    "\n",
    "text = \"RegularExpression1IsAn2ImportantTopic3InPython\"\n",
    "\n",
    "result = insert_spaces(text)\n",
    "\n",
    "print(result)\n"
   ]
  },
  {
   "cell_type": "raw",
   "id": "a91539d0",
   "metadata": {},
   "source": [
    "Question 9- Create a function in python to insert spaces between words starting with capital letters or with numbers.\n",
    "Sample Text: “RegularExpression1IsAn2ImportantTopic3InPython\"\n"
   ]
  },
  {
   "cell_type": "code",
   "execution_count": 18,
   "id": "bf5c5d90",
   "metadata": {},
   "outputs": [
    {
     "name": "stdout",
     "output_type": "stream",
     "text": [
      "RegularExpression 1 IsAn 2 ImportantTopic 3 InPython\n"
     ]
    }
   ],
   "source": [
    "import re\n",
    "\n",
    "def insert_spaces(text):\n",
    "    pattern = re.compile(r'(?<=[A-Z0-9])(?=[A-Z][a-z])|(?<=[a-z0-9])(?=[0-9])')\n",
    "\n",
    "    modified_text = pattern.sub(' ', text)\n",
    "\n",
    "    return modified_text\n",
    "\n",
    "text = \"RegularExpression1IsAn2ImportantTopic3InPython\"\n",
    "\n",
    "result = insert_spaces(text)\n",
    "\n",
    "print(result)\n"
   ]
  },
  {
   "cell_type": "raw",
   "id": "d0a8fd66",
   "metadata": {},
   "source": [
    "Question 10- Use the github link below to read the data and create a dataframe. After creating the dataframe extract the first 6 letters of each country and store in the dataframe under a new column called first_five_letters.\n",
    "Github Link-  https://raw.githubusercontent.com/dsrscientist/DSData/master/happiness_score_dataset.csv\n",
    "    "
   ]
  },
  {
   "cell_type": "code",
   "execution_count": 19,
   "id": "18dacc3a",
   "metadata": {},
   "outputs": [
    {
     "name": "stdout",
     "output_type": "stream",
     "text": [
      "       Country          Region  Happiness Rank  Happiness Score  \\\n",
      "0  Switzerland  Western Europe               1            7.587   \n",
      "1      Iceland  Western Europe               2            7.561   \n",
      "2      Denmark  Western Europe               3            7.527   \n",
      "3       Norway  Western Europe               4            7.522   \n",
      "4       Canada   North America               5            7.427   \n",
      "\n",
      "   Standard Error  Economy (GDP per Capita)   Family  \\\n",
      "0         0.03411                   1.39651  1.34951   \n",
      "1         0.04884                   1.30232  1.40223   \n",
      "2         0.03328                   1.32548  1.36058   \n",
      "3         0.03880                   1.45900  1.33095   \n",
      "4         0.03553                   1.32629  1.32261   \n",
      "\n",
      "   Health (Life Expectancy)  Freedom  Trust (Government Corruption)  \\\n",
      "0                   0.94143  0.66557                        0.41978   \n",
      "1                   0.94784  0.62877                        0.14145   \n",
      "2                   0.87464  0.64938                        0.48357   \n",
      "3                   0.88521  0.66973                        0.36503   \n",
      "4                   0.90563  0.63297                        0.32957   \n",
      "\n",
      "   Generosity  Dystopia Residual first_five_letters  \n",
      "0     0.29678            2.51738             Switze  \n",
      "1     0.43630            2.70201             Icelan  \n",
      "2     0.34139            2.49204             Denmar  \n",
      "3     0.34699            2.46531             Norway  \n",
      "4     0.45811            2.45176             Canada  \n"
     ]
    }
   ],
   "source": [
    "import pandas as pd\n",
    "\n",
    "\n",
    "url = \"https://raw.githubusercontent.com/dsrscientist/DSData/master/happiness_score_dataset.csv\"\n",
    "df = pd.read_csv(url)\n",
    "\n",
    "\n",
    "df['first_five_letters'] = df['Country'].str[:6]\n",
    "\n",
    "\n",
    "print(df.head())"
   ]
  },
  {
   "cell_type": "raw",
   "id": "2249dad2",
   "metadata": {},
   "source": [
    "Question 11- Write a Python program to match a string that contains only upper and lowercase letters, numbers, and underscores."
   ]
  },
  {
   "cell_type": "code",
   "execution_count": 20,
   "id": "d19c3bd2",
   "metadata": {},
   "outputs": [
    {
     "name": "stdout",
     "output_type": "stream",
     "text": [
      "hello_world123: True\n",
      "HelloWorld: True\n",
      "12345: True\n",
      "hello123$%: False\n"
     ]
    }
   ],
   "source": [
    "import re\n",
    "\n",
    "def match_string(input_string):\n",
    "   \n",
    "    pattern = re.compile(r'^[a-zA-Z0-9_]+$')\n",
    "\n",
    "    if pattern.match(input_string):\n",
    "        return True\n",
    "    else:\n",
    "        return False\n",
    "\n",
    "strings_to_test = [\"hello_world123\", \"HelloWorld\", \"12345\", \"hello123$%\"]\n",
    "for string in strings_to_test:\n",
    "    print(f\"{string}: {match_string(string)}\")\n",
    "\n",
    "    "
   ]
  },
  {
   "cell_type": "raw",
   "id": "fc5c417d",
   "metadata": {},
   "source": [
    "Question 12- Write a Python program where a string will start with a specific number. "
   ]
  },
  {
   "cell_type": "code",
   "execution_count": 21,
   "id": "aa371aa0",
   "metadata": {},
   "outputs": [
    {
     "name": "stdout",
     "output_type": "stream",
     "text": [
      "123hello starts with 123: True\n",
      "456world starts with 123: False\n",
      "789Python starts with 123: False\n",
      "abc123 starts with 123: False\n"
     ]
    }
   ],
   "source": [
    "import re\n",
    "\n",
    "def starts_with_number(string, number):\n",
    "    \n",
    "    pattern = re.compile(r'^' + str(number))\n",
    "\n",
    "    \n",
    "    if pattern.match(string):\n",
    "        return True\n",
    "    else:\n",
    "        return False\n",
    "strings_to_test = [\"123hello\", \"456world\", \"789Python\", \"abc123\"]\n",
    "number_to_check = 123\n",
    "for string in strings_to_test:\n",
    "    print(f\"{string} starts with {number_to_check}: {starts_with_number(string, number_to_check)}\")\n"
   ]
  },
  {
   "cell_type": "raw",
   "id": "6ccf53e8",
   "metadata": {},
   "source": [
    "Question 13- Write a Python program to remove leading zeros from an IP address"
   ]
  },
  {
   "cell_type": "code",
   "execution_count": 22,
   "id": "ecf2942d",
   "metadata": {},
   "outputs": [
    {
     "name": "stdout",
     "output_type": "stream",
     "text": [
      "Original IP address: 192.168.001.001\n",
      "IP address with leading zeros removed: 192.168.1.1\n"
     ]
    }
   ],
   "source": [
    "import re\n",
    "\n",
    "def remove_leading_zeros(ip_address):\n",
    "    pattern = re.compile(r'\\b0+(\\d+)')\n",
    "\n",
    "    modified_ip = pattern.sub(r'\\1', ip_address)\n",
    "\n",
    "    return modified_ip\n",
    "\n",
    "ip_address = \"192.168.001.001\"\n",
    "result = remove_leading_zeros(ip_address)\n",
    "print(\"Original IP address:\", ip_address)\n",
    "print(\"IP address with leading zeros removed:\", result)\n"
   ]
  },
  {
   "cell_type": "raw",
   "id": "30353f4f",
   "metadata": {},
   "source": [
    "Question 14- Write a regular expression in python to match a date string in the form of Month name followed by day number and year stored in a text file.\n",
    "Sample text :  ' On August 15th 1947 that India was declared independent from British colonialism, and the reins of control were handed over to the leaders of the Country’.\n"
   ]
  },
  {
   "cell_type": "code",
   "execution_count": null,
   "id": "2752b158",
   "metadata": {},
   "outputs": [],
   "source": [
    "import re\n",
    "\n",
    "def match_date_string(text):\n",
    "    pattern = re.compile(r'(?:January|February|March|April|May|June|July|August|September|October|November|December)\\s+\\d{1,2}(?:st|nd|rd|th)\\s+\\d{4}')\n",
    "\n",
    "    matches = pattern.findall(text)\n",
    "\n",
    "    return matches\n",
    "\n",
    "text = 'On August 15th 1947 that India was declared independent from British colonialism, and the reins of control were handed over to the leaders of the Country.'\n",
    "\n",
    "date_strings = match_date_string(text)\n",
    "print(date_strings)\n"
   ]
  },
  {
   "cell_type": "raw",
   "id": "603fda22",
   "metadata": {},
   "source": [
    "Question 15- Write a Python program to search some literals strings in a string. \n",
    "Sample text : 'The quick brown fox jumps over the lazy dog.'\n"
   ]
  },
  {
   "cell_type": "code",
   "execution_count": 25,
   "id": "f4f07717",
   "metadata": {},
   "outputs": [
    {
     "name": "stdout",
     "output_type": "stream",
     "text": [
      "Found words: ['fox', 'dog']\n"
     ]
    }
   ],
   "source": [
    "def search_literals(text, *literals):\n",
    "    found = []\n",
    "    for literal in literals:\n",
    "        if literal in text:\n",
    "            found.append(literal)\n",
    "    return found\n",
    "\n",
    "sample_text = 'The quick brown fox jumps over the lazy dog.'\n",
    "\n",
    "words_to_search = ['fox', 'dog', 'cat']\n",
    "\n",
    "found_words = search_literals(sample_text, *words_to_search)\n",
    "\n",
    "print(\"Found words:\", found_words)\n"
   ]
  },
  {
   "cell_type": "raw",
   "id": "6f9de075",
   "metadata": {},
   "source": [
    "Question 16- Write a Python program to search a literals string in a string and also find the location within the original string where the pattern occurs\n",
    "Sample text : 'The quick brown fox jumps over the lazy dog.'\n"
   ]
  },
  {
   "cell_type": "code",
   "execution_count": 28,
   "id": "22773169",
   "metadata": {},
   "outputs": [
    {
     "name": "stdout",
     "output_type": "stream",
     "text": [
      "The pattern 'fox' is found at position(s): [16]\n"
     ]
    }
   ],
   "source": [
    "def search_literal_and_location(text, pattern):\n",
    "    locations = []\n",
    "    index = text.find(pattern)\n",
    "    while index != -1:\n",
    "        locations.append(index)\n",
    "        index = text.find(pattern, index + 1)\n",
    "    return locations\n",
    "\n",
    "sample_text = 'The quick brown fox jumps over the lazy dog.'\n",
    "\n",
    "pattern = 'fox'\n",
    "\n",
    "locations = search_literal_and_location(sample_text, pattern)\n",
    "\n",
    "if locations:\n",
    "    print(f\"The pattern '{pattern}' is found at position(s): {locations}\")\n",
    "else:\n",
    "    print(f\"The pattern '{pattern}' is not found in the text.\")\n"
   ]
  },
  {
   "cell_type": "raw",
   "id": "c417d938",
   "metadata": {},
   "source": [
    "Question 17- Write a Python program to find the substrings within a string.\n",
    "Sample text : 'Python exercises, PHP exercises, C# exercises'\n",
    "Pattern : 'exercises'."
   ]
  },
  {
   "cell_type": "code",
   "execution_count": null,
   "id": "fb8dd870",
   "metadata": {},
   "outputs": [],
   "source": [
    "import re\n",
    "\n",
    "def find_substrings(text, substring):\n",
    "    matches = [match.start() for match in re.finditer(substring, text)]\n",
    "    return matches\n",
    "\n",
    "sample_text = 'Python exercises, PHP exercises, C# exercises'\n",
    "\n",
    "substring = 'exercises'\n",
    "\n",
    "occurrences = find_substrings(sample_text, substring)\n",
    "\n",
    "if occurrences:\n",
    "    print(f\"The substring '{substring}' is found at position(s): {occurrences}\")\n",
    "else:\n",
    "    print(f\"The substring '{substring}' is not found in the text.\")\n",
    "\n",
    "    "
   ]
  },
  {
   "cell_type": "raw",
   "id": "49294258",
   "metadata": {},
   "source": [
    "Question 18- Write a Python program to find the occurrence and position of the substrings within a string."
   ]
  },
  {
   "cell_type": "code",
   "execution_count": 29,
   "id": "9dec3809",
   "metadata": {},
   "outputs": [
    {
     "name": "stdout",
     "output_type": "stream",
     "text": [
      "The substring 'exercises' occurs 3 times at position(s): [7, 22, 36]\n"
     ]
    }
   ],
   "source": [
    "def find_occurrences_and_positions(text, substring):\n",
    "    occurrences = []\n",
    "    start = 0\n",
    "    while True:\n",
    "        start = text.find(substring, start)\n",
    "        if start == -1:\n",
    "            break\n",
    "        occurrences.append(start)\n",
    "        start += 1\n",
    "    return occurrences\n",
    "\n",
    "sample_text = 'Python exercises, PHP exercises, C# exercises'\n",
    "\n",
    "substring = 'exercises'\n",
    "\n",
    "occurrences_and_positions = find_occurrences_and_positions(sample_text, substring)\n",
    "\n",
    "if occurrences_and_positions:\n",
    "    print(f\"The substring '{substring}' occurs {len(occurrences_and_positions)} times at position(s): {occurrences_and_positions}\")\n",
    "else:\n",
    "    print(f\"The substring '{substring}' is not found in the text.\")\n"
   ]
  },
  {
   "cell_type": "raw",
   "id": "bf7abf2c",
   "metadata": {},
   "source": [
    "Question 19- Write a Python program to convert a date of yyyy-mm-dd format to dd-mm-yyyy format."
   ]
  },
  {
   "cell_type": "code",
   "execution_count": 30,
   "id": "86e00b39",
   "metadata": {},
   "outputs": [
    {
     "name": "stdout",
     "output_type": "stream",
     "text": [
      "Original date (yyyy-mm-dd): 2024-03-07\n",
      "Converted date (dd-mm-yyyy): 07-03-2024\n"
     ]
    }
   ],
   "source": [
    "from datetime import datetime\n",
    "\n",
    "def convert_date_format(date_str):\n",
    "    date_obj = datetime.strptime(date_str, '%Y-%m-%d')\n",
    "    \n",
    "    formatted_date = date_obj.strftime('%d-%m-%Y')\n",
    "    \n",
    "    return formatted_date\n",
    "\n",
    "date_str = '2024-03-07'\n",
    "\n",
    "formatted_date = convert_date_format(date_str)\n",
    "\n",
    "print(\"Original date (yyyy-mm-dd):\", date_str)\n",
    "print(\"Converted date (dd-mm-yyyy):\", formatted_date)\n"
   ]
  },
  {
   "cell_type": "raw",
   "id": "12c61429",
   "metadata": {},
   "source": [
    "Question 20- Create a function in python to find all decimal numbers with a precision of 1 or 2 in a string. The use of the re.compile() method is mandatory.\n",
    "Sample Text: \"01.12 0132.123 2.31875 145.8 3.01 27.25 0.25\"\n"
   ]
  },
  {
   "cell_type": "code",
   "execution_count": 32,
   "id": "6ec64b13",
   "metadata": {},
   "outputs": [
    {
     "name": "stdout",
     "output_type": "stream",
     "text": [
      "Decimal numbers with precision of 1 or 2: ['01.12', '145.8', '3.01', '27.25', '0.25']\n"
     ]
    }
   ],
   "source": [
    "import re\n",
    "\n",
    "def find_decimal_numbers(text):\n",
    "    pattern = re.compile(r'\\b\\d+\\.\\d{1,2}\\b')\n",
    "\n",
    "    numbers = pattern.findall(text)\n",
    "\n",
    "    return numbers\n",
    "\n",
    "text = \"01.12 0132.123 2.31875 145.8 3.01 27.25 0.25\"\n",
    "\n",
    "result = find_decimal_numbers(text)\n",
    "print(\"Decimal numbers with precision of 1 or 2:\", result)\n"
   ]
  },
  {
   "cell_type": "raw",
   "id": "50c701bf",
   "metadata": {},
   "source": [
    "Question 21- Write a Python program to separate and print the numbers and their position of a given string."
   ]
  },
  {
   "cell_type": "code",
   "execution_count": 34,
   "id": "089fb29a",
   "metadata": {},
   "outputs": [
    {
     "name": "stdout",
     "output_type": "stream",
     "text": [
      "Numbers and their positions:\n",
      "Number: 99, Position: 26\n",
      "Number: 99, Position: 29\n",
      "Number: 10, Position: 53\n"
     ]
    }
   ],
   "source": [
    "import re\n",
    "\n",
    "def find_numbers_and_positions(text):\n",
    "    pattern = re.compile(r'\\d+')\n",
    "\n",
    "    matches = [(match.group(), match.start()) for match in pattern.finditer(text)]\n",
    "\n",
    "    return matches\n",
    "\n",
    "sample_text = 'The price of the item is $99.99, and the quantity is 10.'\n",
    "\n",
    "numbers_and_positions = find_numbers_and_positions(sample_text)\n",
    "\n",
    "if numbers_and_positions:\n",
    "    print(\"Numbers and their positions:\")\n",
    "    for number, position in numbers_and_positions:\n",
    "        print(f\"Number: {number}, Position: {position}\")\n",
    "else:\n",
    "    print(\"No numbers found in the text.\")\n"
   ]
  },
  {
   "cell_type": "raw",
   "id": "b594d9f8",
   "metadata": {},
   "source": [
    "Question 22- Write a regular expression in python program to extract maximum/largest numeric value from a string.\n",
    "Sample Text:  'My marks in each semester are: 947, 896, 926, 524, 734, 950, 642'"
   ]
  },
  {
   "cell_type": "code",
   "execution_count": 36,
   "id": "7993e587",
   "metadata": {},
   "outputs": [
    {
     "name": "stdout",
     "output_type": "stream",
     "text": [
      "Maximum numeric value: 950\n"
     ]
    }
   ],
   "source": [
    "import re\n",
    "\n",
    "def extract_maximum_numeric_value(text):\n",
    "    pattern = re.compile(r'\\b\\d+\\b')\n",
    "\n",
    "    numeric_values = [int(match) for match in pattern.findall(text)]\n",
    "\n",
    "    if numeric_values:\n",
    "        return max(numeric_values)\n",
    "    else:\n",
    "        return None\n",
    "\n",
    "sample_text = 'My marks in each semester are: 947, 896, 926, 524, 734, 950, 642'\n",
    "\n",
    "max_numeric_value = extract_maximum_numeric_value(sample_text)\n",
    "\n",
    "if max_numeric_value is not None:\n",
    "    print(\"Maximum numeric value:\", max_numeric_value)\n",
    "else:\n",
    "    print(\"No numeric values found in the text.\")\n"
   ]
  },
  {
   "cell_type": "raw",
   "id": "dc5b1588",
   "metadata": {},
   "source": [
    "Question 23- Create a function in python to insert spaces between words starting with capital letters.\n",
    "Sample Text: “RegularExpressionIsAnImportantTopicInPython\"\n"
   ]
  },
  {
   "cell_type": "code",
   "execution_count": 37,
   "id": "ccfd45e4",
   "metadata": {},
   "outputs": [
    {
     "name": "stdout",
     "output_type": "stream",
     "text": [
      "Regular Expression Is An Important Topic In Python\n"
     ]
    }
   ],
   "source": [
    "import re\n",
    "\n",
    "def insert_spaces(text):\n",
    "    pattern = re.compile(r'(?<=[a-z])([A-Z])')\n",
    "\n",
    "    modified_text = pattern.sub(r' \\1', text)\n",
    "\n",
    "    return modified_text\n",
    "\n",
    "text = \"RegularExpressionIsAnImportantTopicInPython\"\n",
    "\n",
    "result = insert_spaces(text)\n",
    "\n",
    "print(result)\n"
   ]
  },
  {
   "cell_type": "raw",
   "id": "e0196fa9",
   "metadata": {},
   "source": [
    "Question 24- Python regex to find sequences of one upper case letter followed by lower case letters"
   ]
  },
  {
   "cell_type": "code",
   "execution_count": 39,
   "id": "ce98f489",
   "metadata": {},
   "outputs": [
    {
     "name": "stdout",
     "output_type": "stream",
     "text": [
      "Matches: ['The', 'Brown', 'Jumps', 'Dog']\n"
     ]
    }
   ],
   "source": [
    "import re\n",
    "\n",
    "sample_text = \"The quick Brown fox Jumps over the lazy Dog.\"\n",
    "\n",
    "pattern = re.compile(r'[A-Z][a-z]+')\n",
    "\n",
    "matches = pattern.findall(sample_text)\n",
    "\n",
    "print(\"Matches:\", matches)\n"
   ]
  },
  {
   "cell_type": "raw",
   "id": "ab3ccc78",
   "metadata": {},
   "source": [
    "Question 25- Write a Python program to remove continuous duplicate words from Sentence using Regular Expression.\n",
    "Sample Text: \"Hello hello world world\"\n"
   ]
  },
  {
   "cell_type": "code",
   "execution_count": 41,
   "id": "6a25a809",
   "metadata": {},
   "outputs": [
    {
     "name": "stdout",
     "output_type": "stream",
     "text": [
      "Hello hello world\n"
     ]
    }
   ],
   "source": [
    "import re\n",
    "\n",
    "def remove_continuous_duplicates(sentence):\n",
    "    pattern = re.compile(r'\\b(\\w+)(\\s+\\1)+\\b')\n",
    "\n",
    "    modified_sentence = pattern.sub(r'\\1', sentence)\n",
    "\n",
    "    return modified_sentence\n",
    "\n",
    "sentence = \"Hello hello world world\"\n",
    "\n",
    "result = remove_continuous_duplicates(sentence)\n",
    "\n",
    "print(result)\n"
   ]
  },
  {
   "cell_type": "raw",
   "id": "653afd9b",
   "metadata": {},
   "source": [
    "Question 26-  Write a python program using RegEx to accept string ending with alphanumeric character."
   ]
  },
  {
   "cell_type": "code",
   "execution_count": 43,
   "id": "19e5a706",
   "metadata": {},
   "outputs": [
    {
     "name": "stdout",
     "output_type": "stream",
     "text": [
      "Hello123: True\n",
      "World!: False\n",
      "Python3: True\n",
      "1234: True\n",
      "Test!@#: False\n"
     ]
    }
   ],
   "source": [
    "import re\n",
    "\n",
    "def accept_string_ending_with_alphanumeric(string):\n",
    "    pattern = re.compile(r'\\w$')\n",
    "\n",
    "    if pattern.search(string):\n",
    "        return True\n",
    "    else:\n",
    "        return False\n",
    "\n",
    "strings_to_test = [\"Hello123\", \"World!\", \"Python3\", \"1234\", \"Test!@#\"]\n",
    "for string in strings_to_test:\n",
    "    print(f\"{string}: {accept_string_ending_with_alphanumeric(string)}\")\n"
   ]
  },
  {
   "cell_type": "raw",
   "id": "7fcccf14",
   "metadata": {},
   "source": [
    "Question 27-Write a python program using RegEx to extract the hashtags.\n",
    "Sample Text:  \"\"\"RT @kapil_kausik: #Doltiwal I mean #xyzabc is \"hurt\" by #Demonetization as the same has rendered USELESS <ed><U+00A0><U+00BD><ed><U+00B1><U+0089> \"acquired funds\" No wo\"\"\"\n"
   ]
  },
  {
   "cell_type": "code",
   "execution_count": 46,
   "id": "2fb9cfd7",
   "metadata": {},
   "outputs": [
    {
     "name": "stdout",
     "output_type": "stream",
     "text": [
      "Hashtags: ['#Doltiwal', '#xyzabc', '#Demonetization']\n"
     ]
    }
   ],
   "source": [
    "import re\n",
    "\n",
    "def extract_hashtags(text):\n",
    "    pattern = re.compile(r'#\\w+')\n",
    "\n",
    "    hashtags = pattern.findall(text)\n",
    "\n",
    "    return hashtags\n",
    "\n",
    "sample_text = \"\"\"RT @kapil_kausik: #Doltiwal I mean #xyzabc is \"hurt\" by #Demonetization as the same has rendered\n",
    "USELESS <ed><U+00A0><U+00BD><ed><U+00B1><U+0089> \"acquired funds\" No wo\"\"\"\n",
    "\n",
    "hashtags = extract_hashtags(sample_text)\n",
    "\n",
    "print(\"Hashtags:\", hashtags)\n"
   ]
  },
  {
   "cell_type": "raw",
   "id": "003f7afd",
   "metadata": {},
   "source": [
    "Question 28- Write a python program using RegEx to remove <U+..> like symbols\n",
    "Check the below sample text, there are strange symbols something of the sort <U+..> all over the place. You need to come up with a general Regex expression that will cover all such symbols.\n",
    "Sample Text: \"@Jags123456 Bharat band on 28??<ed><U+00A0><U+00BD><ed><U+00B8><U+0082>Those who  are protesting #demonetization  are all different party leaders\"\n"
   ]
  },
  {
   "cell_type": "code",
   "execution_count": 51,
   "id": "0b9666d8",
   "metadata": {},
   "outputs": [
    {
     "name": "stdout",
     "output_type": "stream",
     "text": [
      "@Jags123456 Bharat band on 28??<ed><ed>Those who are protesting #demonetization are all different party leaders\n"
     ]
    }
   ],
   "source": [
    "import re\n",
    "\n",
    "def remove_special_symbols(text):\n",
    "    pattern = re.compile(r'<U\\+[0-9A-Fa-f]+>')\n",
    "\n",
    "    modified_text = pattern.sub('', text)\n",
    "\n",
    "    return modified_text\n",
    "\n",
    "sample_text = \"@Jags123456 Bharat band on 28??<ed><U+00A0><U+00BD><ed><U+00B8><U+0082>Those who are protesting #demonetization are all different party leaders\"\n",
    "\n",
    "result = remove_special_symbols(sample_text)\n",
    "\n",
    "print(result)\n"
   ]
  },
  {
   "cell_type": "raw",
   "id": "40df67c8",
   "metadata": {},
   "source": [
    "Question 30- Create a function in python to remove all words from a string of length between 2 and 4.\n",
    "The use of the re.compile() method is mandatory.\n",
    "Sample Text: \"The following example creates an ArrayList with a capacity of 50 elements. 4 elements are then added to the ArrayList and the ArrayList is trimmed accordingly.\"\n"
   ]
  },
  {
   "cell_type": "code",
   "execution_count": 55,
   "id": "2a6f5dd0",
   "metadata": {},
   "outputs": [
    {
     "name": "stdout",
     "output_type": "stream",
     "text": [
      " following example creates  ArrayList  a capacity   elements. 4 elements   added   ArrayList   ArrayList  trimmed accordingly.\n"
     ]
    }
   ],
   "source": [
    "import re\n",
    "\n",
    "def remove_words_of_length_between_2_and_4(text):\n",
    "    pattern = re.compile(r'\\b\\w{2,4}\\b')\n",
    "\n",
    "    modified_text = pattern.sub('', text)\n",
    "\n",
    "    return modified_text\n",
    "\n",
    "sample_text = \"The following example creates an ArrayList with a capacity of 50 elements. 4 elements are then added to the ArrayList and the ArrayList is trimmed accordingly.\"\n",
    "\n",
    "result = remove_words_of_length_between_2_and_4(sample_text)\n",
    "\n",
    "print(result)\n"
   ]
  },
  {
   "cell_type": "code",
   "execution_count": null,
   "id": "c933ca9c",
   "metadata": {},
   "outputs": [],
   "source": []
  }
 ],
 "metadata": {
  "kernelspec": {
   "display_name": "Python 3 (ipykernel)",
   "language": "python",
   "name": "python3"
  },
  "language_info": {
   "codemirror_mode": {
    "name": "ipython",
    "version": 3
   },
   "file_extension": ".py",
   "mimetype": "text/x-python",
   "name": "python",
   "nbconvert_exporter": "python",
   "pygments_lexer": "ipython3",
   "version": "3.11.5"
  }
 },
 "nbformat": 4,
 "nbformat_minor": 5
}
